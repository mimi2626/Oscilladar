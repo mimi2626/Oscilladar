{
 "cells": [
  {
   "cell_type": "markdown",
   "metadata": {},
   "source": [
    "# Oscilladar"
   ]
  },
  {
   "cell_type": "markdown",
   "metadata": {},
   "source": [
    "We will make two classes: neurons and synapses\n",
    "\n",
    "Each neuron has its value and its error, that will be clculated each time an example is presented.\n",
    "\n",
    "Each slayer (= __s__ynapses __layer__) is a list of pairs - the synapses.\n",
    "\n",
    "Synapse objects will hold the neurons (by name).\n"
   ]
  },
  {
   "cell_type": "markdown",
   "metadata": {},
   "source": [
    "for each layer, we will loop over the NEURONS, determinig their value by summing with a tanh as the activation function.\n",
    "\n",
    "Then, we will calculate the error for each layer and update the synapse values with them."
   ]
  },
  {
   "cell_type": "markdown",
   "metadata": {},
   "source": [
    "\n",
    "We will loop over each layer, adding the weight*pre-value for each post. (with tanh(), like in the booklet)\n",
    "\n",
    "The value of neurons will be 0 when starting the run each time, but synapses will stay and be modified.\n",
    "\n"
   ]
  },
  {
   "cell_type": "code",
   "execution_count": 1,
   "metadata": {},
   "outputs": [],
   "source": [
    "# here we will create the neuron objects\n",
    "\n",
    "class neuron:\n",
    "    def __init__(self):\n",
    "        self.value = 0\n",
    "        self.error = 0\n",
    "        "
   ]
  },
  {
   "cell_type": "code",
   "execution_count": 2,
   "metadata": {},
   "outputs": [],
   "source": [
    "# here we will create the synapse objects \n",
    "# each will have its weight, and its pre- and post-synaptic neurons as NAMES - strings.\n",
    "# that way, we will access a neuron on the layer dict by its name.\n",
    "\n",
    "import numpy.random as r\n",
    "\n",
    "class synapse:\n",
    "    def __init__(self,pre,post):\n",
    "        self.pre = pre\n",
    "        self.weight = r.random()\n",
    "        self.post = post\n",
    "        "
   ]
  },
  {
   "cell_type": "code",
   "execution_count": 3,
   "metadata": {},
   "outputs": [],
   "source": [
    "# here we will create the layer object\n",
    "\n",
    "class nlayer:\n",
    "    def __init__(self,size):\n",
    "        self.members = {}\n",
    "        for i in range(size):\n",
    "            self.members['n'+str(i+1)] = neuron()\n",
    "    \n",
    "    def get_neurons(self):\n",
    "        return self.members\n",
    "    \n",
    "class slayer:\n",
    "    def __init__(self,s_list):\n",
    "        self.pairs = []\n",
    "        for pair in s_list:\n",
    "            self.pairs += [synapse(pair[0],pair[1])]\n",
    "            \n",
    "    def get_synapses(self):\n",
    "        return self.pairs\n",
    "        \n",
    "        "
   ]
  },
  {
   "cell_type": "code",
   "execution_count": 4,
   "metadata": {},
   "outputs": [],
   "source": [
    "# here we will create the network object\n",
    "beta = 3\n",
    "\n",
    "class network:\n",
    "    def __init__(self,path):\n",
    "        self.nlayers = {}\n",
    "        n_counter = 0\n",
    "        self.slayers = {}\n",
    "        s_counter = 0\n",
    "        to_s = []\n",
    "        with open(path) as f:\n",
    "            lines = f.readlines()\n",
    "        for line in lines:\n",
    "            line = line[:-1] # to delete the '\\n'\n",
    "            if line.isdigit():\n",
    "                if to_s != []:\n",
    "                    self.slayers['synapses'+str(s_counter)] = slayer(to_s)\n",
    "                    s_counter+=1\n",
    "                    to_s = []\n",
    "                self.nlayers['layer'+str(n_counter)] = nlayer(int(line))\n",
    "                n_counter+=1\n",
    "                \n",
    "            else:\n",
    "                to_s += [line.split()]\n",
    "\n",
    "        self.slayers['synapses'+str(s_counter)] = slayer(to_s)\n",
    "        s_counter+=1\n",
    "        to_s = []\n",
    "                \n",
    "        self.nlayers['output'] = nlayer(1)\n",
    "    \n",
    "    def get_nlayers(self):\n",
    "        return self.nlayers\n",
    "    \n",
    "    def get_slayers(self):\n",
    "        return self.slayers\n",
    "    \n",
    "    def add_layer(self,size):\n",
    "        ind = len(self.members)-1\n",
    "        self.members['layer '+str(ind)] = layer(size)\n",
    "        \n",
    "    def clear_nlayers(self):\n",
    "        for nlayer in self.nlayers.values():\n",
    "            ns = nlayer.get_neurons()\n",
    "            for name in ns:\n",
    "                ns[name].value = 0\n",
    "                ns[name].error = 0\n",
    "        \n",
    "    def cal_neurons(self,example):\n",
    "        import numpy as np\n",
    "        \n",
    "        y0 = example['class']\n",
    "        pat = np.reshape(example['pattern'],(example['pattern'].size))\n",
    "        \n",
    "        self.clear_nlayers()\n",
    "        \n",
    "        nlayers = self.get_nlayers()\n",
    "        \n",
    "        # present to the network\n",
    "        i = 0\n",
    "        for ni in nlayers['layer0'].get_neurons().values():\n",
    "            ni.value = pat[i]\n",
    "            i+=1\n",
    "       \n",
    "        # calculate the neurons values in each layer\n",
    "        \n",
    "        for name,slayer in self.slayers.items():\n",
    "            pre_layer = self.nlayers['layer'+name[-1]].get_neurons()\n",
    "\n",
    "            post_layer_name = 'layer'+str(int(name[-1])+1) \n",
    "            post_layer_name = post_layer_name if post_layer_name in self.nlayers else 'output'\n",
    "            post_layer = self.nlayers[post_layer_name].get_neurons()\n",
    "            \n",
    "            for synapse in slayer.get_synapses():\n",
    "                post_layer[synapse.post].value += pre_layer[synapse.pre].value*synapse.weight\n",
    "            \n",
    "            for neuron in post_layer.values():\n",
    "                neuron.value = np.tanh(beta*neuron.value)\n",
    "        \n",
    "        # calculate the error for each layer\n",
    "        re_slayers = reversed(list(self.get_slayers().keys()))\n",
    "        output_n = self.get_nlayers()['output'].get_neurons()['n1']\n",
    "        output_n.error = beta*(1-output_n.value**2)*(y0 - output_n.value)\n",
    "        \n",
    "        for slayer_name in re_slayers:\n",
    "            pre_layer_name = 'layer'+slayer_name[-1]\n",
    "            pre_layer = self.nlayers[pre_layer_name].get_neurons()\n",
    "            \n",
    "            post_layer_name = 'layer'+str(int(slayer_name[-1])+1) \n",
    "            post_layer_name = post_layer_name if post_layer_name in self.nlayers else 'output'\n",
    "            post_layer = self.nlayers[post_layer_name].get_neurons()\n",
    "            \n",
    "            for synapse in self.slayers[slayer_name].get_synapses():\n",
    "                pre_layer[synapse.pre].error += post_layer[synapse.post].error*synapse.weight\n",
    "                \n",
    "            for neuron in pre_layer.values():\n",
    "                neuron.error = neuron.error*beta*(1-(neuron.value)**2)\n",
    "                \n",
    "                \n",
    "        # update the weights\n",
    "        eta = 0.5\n",
    "        \n",
    "        for name,slayer in self.slayers.items():\n",
    "            pre_layer_name = 'layer'+name[-1]\n",
    "            pre_layer = self.nlayers[pre_layer_name].get_neurons()\n",
    "\n",
    "            post_layer_name = 'layer'+str(int(name[-1])+1) \n",
    "            post_layer_name = post_layer_name if post_layer_name in self.nlayers else 'output'\n",
    "            post_layer = self.nlayers[post_layer_name].get_neurons()\n",
    "            \n",
    "            for synapse in slayer.get_synapses():\n",
    "                synapse.weight += eta * post_layer[synapse.post].error * pre_layer[synapse.pre].value\n",
    "            \n",
    "        return self.nlayers['output'].get_neurons()['n1'].value\n",
    "                     \n",
    "        \n",
    "        \n",
    "        "
   ]
  },
  {
   "cell_type": "code",
   "execution_count": 5,
   "metadata": {},
   "outputs": [],
   "source": [
    "class network(network):\n",
    "    def classify(self,example):\n",
    "        import numpy as np\n",
    "        \n",
    "        pat = np.reshape(example['pattern'],(example['pattern'].size))\n",
    "        \n",
    "        self.clear_nlayers()\n",
    "        \n",
    "        nlayers = self.get_nlayers()\n",
    "        \n",
    "        # present to the network\n",
    "        i = 0\n",
    "        for ni in nlayers['layer0'].get_neurons().values():\n",
    "            ni.value = pat[i]\n",
    "            i+=1\n",
    "       \n",
    "        # calculate the neurons values in each layer\n",
    "        for name,slayer in self.slayers.items():\n",
    "            pre_layer = self.nlayers['layer'+name[-1]].get_neurons()\n",
    "\n",
    "            post_layer_name = 'layer'+str(int(name[-1])+1) \n",
    "            post_layer_name = post_layer_name if post_layer_name in self.nlayers else 'output'\n",
    "            post_layer = self.nlayers[post_layer_name].get_neurons()\n",
    "            \n",
    "            for synapse in slayer.get_synapses():\n",
    "                post_layer[synapse.post].value += pre_layer[synapse.pre].value*synapse.weight\n",
    "            \n",
    "            for neuron in post_layer.values():\n",
    "                neuron.value = np.tanh(beta*neuron.value)\n",
    "                \n",
    "        return nlayers['output'].get_neurons()['n1'].value\n",
    "        "
   ]
  },
  {
   "cell_type": "code",
   "execution_count": 6,
   "metadata": {},
   "outputs": [],
   "source": [
    "import joblib\n",
    "train = joblib.load(r'C:\\Users\\mimis\\Desktop\\patterns wiki\\new_ts.pkl') \n",
    "res = joblib.load(r'C:\\Users\\mimis\\Desktop\\patterns wiki\\new_ts-1.pkl') "
   ]
  },
  {
   "cell_type": "code",
   "execution_count": 7,
   "metadata": {},
   "outputs": [],
   "source": [
    "train += res"
   ]
  },
  {
   "cell_type": "code",
   "execution_count": 8,
   "metadata": {},
   "outputs": [],
   "source": [
    "import random\n",
    "import copy\n",
    "\n",
    "s = copy.deepcopy(train)\n",
    "\n",
    "random.shuffle(s)\n",
    "\n",
    "cut = 217\n",
    "test = s[:cut]\n",
    "training = s[cut:]"
   ]
  },
  {
   "cell_type": "code",
   "execution_count": 9,
   "metadata": {},
   "outputs": [],
   "source": [
    "net = network(r\"C:\\Users\\mimis\\Documents\\_Semesters\\2022א\\חישוביות ביולוגית-4מ\\mmn 13\\MINE\\network5.txt\")\n",
    "test_acc = []\n",
    "train_acc = []"
   ]
  },
  {
   "cell_type": "code",
   "execution_count": 10,
   "metadata": {},
   "outputs": [],
   "source": [
    "before = []\n",
    "for t in test:\n",
    "    before += [net.classify(t)]\n",
    "    \n",
    "aha = [int(round(before[i]))-test[i]['class'] for i in range(len(before))]\n",
    "bum = [sum(1 for x in aha if x==0)/len(aha)]"
   ]
  },
  {
   "cell_type": "code",
   "execution_count": null,
   "metadata": {},
   "outputs": [],
   "source": []
  },
  {
   "cell_type": "code",
   "execution_count": 21,
   "metadata": {},
   "outputs": [
    {
     "name": "stdout",
     "output_type": "stream",
     "text": [
      "2022-01-24 11:26:32.605349\n",
      "2022-01-24 11:30:08.394793\n"
     ]
    }
   ],
   "source": [
    "import numpy as np\n",
    "import datetime\n",
    "\n",
    "print(datetime.datetime.now())\n",
    "\n",
    "\n",
    "for i in range(30):\n",
    "    random.shuffle(training)\n",
    "    train_error = [int(round(net.cal_neurons(t)))-t['class'] for t in training]\n",
    "    train_acc += [sum(1 for x in train_error if x==0)/len(train_error)]\n",
    "\n",
    "    \n",
    "    test_error = [int(round(net.classify(t)))-t['class'] for t in test]\n",
    "    test_acc += [sum(1 for x in test_error if x==0)/len(test_error)]\n",
    "    \n",
    "print(datetime.datetime.now())\n"
   ]
  },
  {
   "cell_type": "code",
   "execution_count": 23,
   "metadata": {},
   "outputs": [
    {
     "data": {
      "image/png": "[encoded data removed]",
      "text/plain": [
       "<Figure size 800x480 with 1 Axes>"
      ]
     },
     "metadata": {
      "needs_background": "light"
     },
     "output_type": "display_data"
    }
   ],
   "source": [
    "    import matplotlib.pyplot as plt\n",
    "    import matplotlib.patches as mpatches\n",
    "    from matplotlib.pyplot import figure\n",
    "\n",
    "    figure(figsize=(10, 6), dpi=80)\n",
    "\n",
    "    plt.plot(train_acc[:40],label='train',c='gray')\n",
    "    plt.plot(test_acc[:40],label='test',c='#d11d53')\n",
    "    \n",
    "    plt.title('test reached: '+str(round((test_acc[39]),3))+'\\ntrain reached: '+str(round((train_acc[39]),3)),loc='right',fontsize=8)\n",
    "    plt.title(\"learning improvement\")\n",
    "    plt.ylabel(\"Correct classifications (%)\")\n",
    "    plt.xlabel(\"Epocs\")\n",
    "    \n",
    "\n",
    "    plt.scatter(0,bum,c='#d11d53',label='inital test',marker='.')\n",
    "    \n",
    "#     plt.arrow(8, 0.45, 1, 0.13, width = 0.001)\n",
    "#     plt.text(6, 0.35, 'here, we shuffled\\nthe training set', fontsize = 8)\n",
    "#     plt.arrow(58, 0.51, 1.5, 0.15, width = 0.001)\n",
    "#     plt.text(54, 0.43, 'here, we mutated\\nthe training set\\nwith p=0.001', fontsize = 8)\n",
    "#     plt.arrow(29, 0.55, 2, 0.1, width = 0.001)\n",
    "#     plt.text(27, 0.45, 'started mutating\\neach epoc', fontsize = 8)\n",
    "#     plt.arrow(39, 0.55, 2, 0.1, width = 0.001)\n",
    "#     plt.text(37, 0.45, 'stopped mutating\\neach epoc', fontsize = 8)\n",
    "    \n",
    "    ax = plt.gca()\n",
    "    ax.set_ylim([0, 1])\n",
    "    \n",
    "    plt.legend()\n",
    "    plt.show()"
   ]
  },
  {
   "cell_type": "code",
   "execution_count": 13,
   "metadata": {},
   "outputs": [],
   "source": [
    "def mutate(ds):\n",
    "    pm = 0.001\n",
    "    train = copy.deepcopy(ds)\n",
    "\n",
    "    for t in train:\n",
    "        for i in range(25):\n",
    "            for j in range(25):\n",
    "                if np.random.random() < pm:\n",
    "                    t['pattern'][i][j] = 1-t['pattern'][i][j]\n",
    "    return train\n",
    "            "
   ]
  },
  {
   "cell_type": "code",
   "execution_count": 14,
   "metadata": {},
   "outputs": [],
   "source": [
    "# import copy\n",
    "# training_orig = copy.deepcopy(training)\n",
    "# training = mutate(training)"
   ]
  },
  {
   "cell_type": "code",
   "execution_count": null,
   "metadata": {},
   "outputs": [],
   "source": []
  }
 ],
 "metadata": {
  "kernelspec": {
   "display_name": "Python 3",
   "language": "python",
   "name": "python3"
  },
  "language_info": {
   "codemirror_mode": {
    "name": "ipython",
    "version": 3
   },
   "file_extension": ".py",
   "mimetype": "text/x-python",
   "name": "python",
   "nbconvert_exporter": "python",
   "pygments_lexer": "ipython3",
   "version": "3.7.4"
  }
 },
 "nbformat": 4,
 "nbformat_minor": 2
}
